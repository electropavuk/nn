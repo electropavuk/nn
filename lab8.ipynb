{
  "nbformat": 4,
  "nbformat_minor": 0,
  "metadata": {
    "colab": {
      "name": "lab8.ipynb",
      "provenance": [],
      "collapsed_sections": [],
      "include_colab_link": true
    },
    "kernelspec": {
      "name": "python3",
      "display_name": "Python 3"
    },
    "language_info": {
      "name": "python"
    }
  },
  "cells": [
    {
      "cell_type": "markdown",
      "metadata": {
        "id": "view-in-github",
        "colab_type": "text"
      },
      "source": [
        "<a href=\"https://colab.research.google.com/github/electropavuk/nn/blob/master/lab8.ipynb\" target=\"_parent\"><img src=\"https://colab.research.google.com/assets/colab-badge.svg\" alt=\"Open In Colab\"/></a>"
      ]
    },
    {
      "cell_type": "markdown",
      "source": [
        "# Лабораторна робота №8\n",
        "#### з дисципліни \"Нейронні мережі\"\n",
        "#### студента групи КН-31/2\n",
        "#### Мауріна Андрія\n",
        "#### Варіант №4"
      ],
      "metadata": {
        "id": "efwkPmhgTPRY"
      }
    },
    {
      "cell_type": "markdown",
      "source": [
        "# Додаткове завдання Q-learning"
      ],
      "metadata": {
        "id": "3jOmSNp_TVp-"
      }
    },
    {
      "cell_type": "code",
      "metadata": {
        "id": "fHq2Y7Bbdc21"
      },
      "source": [
        "import numpy as np\n",
        "import random\n",
        "import matplotlib.pyplot as plt"
      ],
      "execution_count": null,
      "outputs": []
    },
    {
      "cell_type": "code",
      "metadata": {
        "id": "mSnVhH9fgWTA",
        "colab": {
          "base_uri": "https://localhost:8080/",
          "height": 265
        },
        "outputId": "190d8f5f-ad71-4faa-80d0-219fcdfc8234"
      },
      "source": [
        "def display(solution=None):\n",
        "    EMPTY = 0\n",
        "    PATH = 50\n",
        "    BLOCK = 120\n",
        "    POS = 200\n",
        "\n",
        "    img = []\n",
        "    for i in range(len(field)):\n",
        "        img.append([])\n",
        "        for j in range(len(field[0])):\n",
        "            if (i, j) in (start, target):\n",
        "                clr = POS\n",
        "            elif solution and (i, j) in solution:\n",
        "                clr = PATH\n",
        "            elif field[i][j]:\n",
        "                clr = BLOCK\n",
        "            else:\n",
        "                clr = EMPTY\n",
        "            img[-1].append(clr)\n",
        "\n",
        "    img = np.array(img)\n",
        "    plt.imshow(img, cmap='Paired', vmax=255)\n",
        "\n",
        "\n",
        "m, n = 10, 15\n",
        "block_prob = .2\n",
        "field = np.random.uniform(low=0, high=1, size=(m, n)) < block_prob\n",
        "start = 0, 0\n",
        "target = m - 1, n - 1\n",
        "field[start] = field[target] = 0\n",
        "\n",
        "display()"
      ],
      "execution_count": null,
      "outputs": [
        {
          "output_type": "display_data",
          "data": {
            "image/png": "[encoded data removed]",
            "text/plain": [
              "<Figure size 432x288 with 1 Axes>"
            ]
          },
          "metadata": {
            "needs_background": "light"
          }
        }
      ]
    },
    {
      "cell_type": "code",
      "metadata": {
        "id": "oO7tp1fSh68V"
      },
      "source": [
        "actions = [(0, 1), (1, 0), (0, -1), (-1, 0)]\n",
        "k = len(actions)\n",
        "\n",
        "def update(state, act):\n",
        "    (i, j), (di, dj) = state, actions[act]\n",
        "    ni, nj = i + di, j + dj\n",
        "    if not (0 <= ni < m and 0 <= nj < n):\n",
        "        next_sate = state\n",
        "    elif field[ni][nj]:\n",
        "        next_sate = state\n",
        "    else: # move legal\n",
        "        next_sate = ni, nj\n",
        "    return next_sate, 999 if next_sate == target else 0\n",
        "\n",
        "def make_decision(state, epsilon=.1):\n",
        "    if random.random() < epsilon: # explore (random move)\n",
        "        return random.randint(0, k - 1)\n",
        "    else: # exploit (best move)\n",
        "        i, j = state\n",
        "        best = [act for act in range(k) if Q[i, j, act] == Q[i, j].max()]\n",
        "        return random.choice(best)"
      ],
      "execution_count": null,
      "outputs": []
    },
    {
      "cell_type": "code",
      "metadata": {
        "colab": {
          "base_uri": "https://localhost:8080/",
          "height": 265
        },
        "id": "eDoNIb2ImEo3",
        "outputId": "07656e23-626a-434c-c1ea-67b2eccd44da"
      },
      "source": [
        "Q = np.zeros((m, n, k))\n",
        "trials = 10000\n",
        "discount = .9\n",
        "alpha = .99\n",
        "\n",
        "for i in range(trials):\n",
        "    state = start\n",
        "    while state != target:\n",
        "        i, j = state\n",
        "        act = make_decision(state, epsilon=.05)\n",
        "        next_sate, reward = update(state, act)\n",
        "        Q[i, j, act] = (1 - alpha) * Q[i, j, act] + alpha * (reward + discount * max(Q[next_sate]))\n",
        "        state = next_sate\n",
        "\n",
        "\n",
        "best_actions = np.argmax(Q, axis=-1)\n",
        "arrow_length = .8\n",
        "arrows = [[actions[a] for a in row] for row in best_actions]\n",
        "\n",
        "for i, row in enumerate(arrows):\n",
        "    for j, (di, dj) in enumerate(row):\n",
        "        if not field[i][j] and any(Q[i][j].tolist()):\n",
        "            plt.arrow(j, i, arrow_length * dj, arrow_length * di, \n",
        "                        length_includes_head=True,\n",
        "                        head_width=0.15, \n",
        "                        head_length=0.2,\n",
        "                        color='white')\n",
        "display()"
      ],
      "execution_count": null,
      "outputs": [
        {
          "output_type": "display_data",
          "data": {
            "image/png": "[encoded data removed]",
            "text/plain": [
              "<Figure size 432x288 with 1 Axes>"
            ]
          },
          "metadata": {
            "needs_background": "light"
          }
        }
      ]
    },
    {
      "cell_type": "code",
      "metadata": {
        "colab": {
          "base_uri": "https://localhost:8080/",
          "height": 265
        },
        "id": "iJnlbfi-Oa82",
        "outputId": "4a63f9b7-ea6d-4b32-db7f-2011291c80fd"
      },
      "source": [
        "state, solution = start, []\n",
        "while state != target:\n",
        "    i, j = state\n",
        "    state, reward = update(state, np.argmax(Q[i, j]))\n",
        "    solution.append(state)\n",
        "\n",
        "display(solution)"
      ],
      "execution_count": null,
      "outputs": [
        {
          "output_type": "display_data",
          "data": {
            "image/png": "[encoded data removed]",
            "text/plain": [
              "<Figure size 432x288 with 1 Axes>"
            ]
          },
          "metadata": {
            "needs_background": "light"
          }
        }
      ]
    },
    {
      "cell_type": "markdown",
      "source": [
        "# Висновок\n",
        "\n",
        "Для демонстрації роботи алгоритму Q-learning я вирішив задачу пошуку найкоротшого шляху в лабіринті. При цьому агент не мав інформацію про розташування перешкод, а взаємодіяв і навчався лише на власному досвіді."
      ],
      "metadata": {
        "id": "xR4TRsUvcadT"
      }
    }
  ]
}