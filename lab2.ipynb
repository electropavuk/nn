{
  "nbformat": 4,
  "nbformat_minor": 0,
  "metadata": {
    "colab": {
      "name": "lab2.ipynb",
      "provenance": [],
      "authorship_tag": "ABX9TyM9Eci9GzPA1T91Msff4JVq",
      "include_colab_link": true
    },
    "kernelspec": {
      "name": "python3",
      "display_name": "Python 3"
    },
    "language_info": {
      "name": "python"
    }
  },
  "cells": [
    {
      "cell_type": "markdown",
      "metadata": {
        "id": "view-in-github",
        "colab_type": "text"
      },
      "source": [
        "<a href=\"https://colab.research.google.com/github/electropavuk/nn/blob/master/lab2.ipynb\" target=\"_parent\"><img src=\"https://colab.research.google.com/assets/colab-badge.svg\" alt=\"Open In Colab\"/></a>"
      ]
    },
    {
      "cell_type": "markdown",
      "source": [
        "## Лабораторна робота №2 з дисципліни \"Нейронні мережі\"\n",
        "### студента групи КН-31/2\n",
        "### Маурін Андрій\n",
        "#### Варіант №4"
      ],
      "metadata": {
        "id": "zYVAxDzk837V"
      }
    },
    {
      "cell_type": "code",
      "execution_count": 1,
      "metadata": {
        "id": "5Jrud3tf83Nb"
      },
      "outputs": [],
      "source": [
        "import numpy as np\n",
        "import tensorflow as tf"
      ]
    },
    {
      "cell_type": "markdown",
      "source": [
        "За матеріалами [2] ознайомитись із засадами бібліотеки TensorFlow:\n",
        "- засвоєння поняття тензору\n",
        "- знати різні способи створення тензорів\n",
        "- створити набір даних із заданим розподілом (розподіл та розмір за власним рішенням), визначити його властивості (shape, rank, size, axis)\n",
        "- продемонструвати основні математичні операції над тензорами\n",
        "- провести CRUD операції над даними, reshape, інтеграцію з np.array, pd.DataFrame)\n"
      ],
      "metadata": {
        "id": "x57PZrUH_w0q"
      }
    },
    {
      "cell_type": "code",
      "source": [
        "data = np.random.uniform(0, 10, (5, 7)).astype(int)\n",
        "tensor = tf.convert_to_tensor(data)\n",
        "print(tensor)"
      ],
      "metadata": {
        "colab": {
          "base_uri": "https://localhost:8080/"
        },
        "id": "Qnicu4sv9TyD",
        "outputId": "799de7db-9298-448e-bca7-6ea9bd137ce9"
      },
      "execution_count": 7,
      "outputs": [
        {
          "output_type": "stream",
          "name": "stdout",
          "text": [
            "tf.Tensor(\n",
            "[[1 7 5 8 9 1 1]\n",
            " [0 7 9 7 6 9 9]\n",
            " [3 6 6 6 9 9 7]\n",
            " [1 2 3 8 1 6 2]\n",
            " [6 0 7 7 3 9 7]], shape=(5, 7), dtype=int64)\n"
          ]
        }
      ]
    },
    {
      "cell_type": "code",
      "source": [
        "print(f'tensor: {tensor.shape}')\n",
        "print(f'rank: {tf.rank(tensor)}')\n",
        "print(f'size: {tf.size(tensor)}')"
      ],
      "metadata": {
        "colab": {
          "base_uri": "https://localhost:8080/"
        },
        "id": "pVKmdana-RHn",
        "outputId": "013b3229-1304-45a2-8eb0-3eab139313b0"
      },
      "execution_count": 12,
      "outputs": [
        {
          "output_type": "stream",
          "name": "stdout",
          "text": [
            "tensor: (5, 7)\n",
            "rank: 2\n",
            "size: 35\n"
          ]
        }
      ]
    },
    {
      "cell_type": "code",
      "source": [
        "print(tf.linalg.matmul(tensor, tensor, transpose_b=True))\n",
        "print(tf.math.reduce_sum(tensor, axis=1))\n",
        "print(tf.concat([tensor, tensor], axis=0))\n",
        "print(tensor + 10)\n",
        "print(tensor * 10)"
      ],
      "metadata": {
        "colab": {
          "base_uri": "https://localhost:8080/"
        },
        "id": "I5Lp7cyo_Boq",
        "outputId": "d80f7f45-b074-48ef-d12c-861c686ce39c"
      },
      "execution_count": 19,
      "outputs": [
        {
          "output_type": "stream",
          "name": "stdout",
          "text": [
            "tf.Tensor(\n",
            "[[222 222 220 111 140]\n",
            " [222 377 336 175 274]\n",
            " [220 336 328 158 259]\n",
            " [111 175 158 119 154]\n",
            " [140 274 259 154 273]], shape=(5, 5), dtype=int64)\n",
            "tf.Tensor([32 47 46 23 39], shape=(5,), dtype=int64)\n",
            "tf.Tensor(\n",
            "[[1 7 5 8 9 1 1]\n",
            " [0 7 9 7 6 9 9]\n",
            " [3 6 6 6 9 9 7]\n",
            " [1 2 3 8 1 6 2]\n",
            " [6 0 7 7 3 9 7]\n",
            " [1 7 5 8 9 1 1]\n",
            " [0 7 9 7 6 9 9]\n",
            " [3 6 6 6 9 9 7]\n",
            " [1 2 3 8 1 6 2]\n",
            " [6 0 7 7 3 9 7]], shape=(10, 7), dtype=int64)\n",
            "tf.Tensor(\n",
            "[[11 17 15 18 19 11 11]\n",
            " [10 17 19 17 16 19 19]\n",
            " [13 16 16 16 19 19 17]\n",
            " [11 12 13 18 11 16 12]\n",
            " [16 10 17 17 13 19 17]], shape=(5, 7), dtype=int64)\n",
            "tf.Tensor(\n",
            "[[10 70 50 80 90 10 10]\n",
            " [ 0 70 90 70 60 90 90]\n",
            " [30 60 60 60 90 90 70]\n",
            " [10 20 30 80 10 60 20]\n",
            " [60  0 70 70 30 90 70]], shape=(5, 7), dtype=int64)\n"
          ]
        }
      ]
    }
  ]
}