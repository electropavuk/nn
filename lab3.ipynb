{
  "nbformat": 4,
  "nbformat_minor": 0,
  "metadata": {
    "colab": {
      "name": "lab3.ipynb",
      "provenance": [],
      "collapsed_sections": [],
      "include_colab_link": true
    },
    "kernelspec": {
      "name": "python3",
      "display_name": "Python 3"
    },
    "language_info": {
      "name": "python"
    }
  },
  "cells": [
    {
      "cell_type": "markdown",
      "metadata": {
        "id": "view-in-github",
        "colab_type": "text"
      },
      "source": [
        "<a href=\"https://colab.research.google.com/github/electropavuk/nn/blob/master/lab3.ipynb\" target=\"_parent\"><img src=\"https://colab.research.google.com/assets/colab-badge.svg\" alt=\"Open In Colab\"/></a>"
      ]
    },
    {
      "cell_type": "markdown",
      "source": [
        "# Лабораторна робота №3\n",
        "#### з дисципліни \"Нейронні мережі\"\n",
        "#### студента групи КН-31/2\n",
        "#### Маурін Андрій\n",
        "#### Варіант №4"
      ],
      "metadata": {
        "id": "9l2a5XoeVlHk"
      }
    },
    {
      "cell_type": "code",
      "source": [
        "import numpy as np\n",
        "import pandas as pd\n",
        "\n",
        "import matplotlib.pyplot as plt\n",
        "import tensorflow as tf\n",
        "from sklearn import datasets as ds\n",
        "from sklearn import linear_model\n",
        "from sklearn import model_selection\n",
        "\n",
        "from google.colab import drive"
      ],
      "metadata": {
        "id": "Zse0GD_gWMYy"
      },
      "execution_count": null,
      "outputs": []
    },
    {
      "cell_type": "markdown",
      "source": [
        "### З використанням бібліотеки Sklearn вирішити задачу класифікації. "
      ],
      "metadata": {
        "id": "b99Nezl2WhzT"
      }
    },
    {
      "cell_type": "code",
      "source": [
        "X, y = ds.make_classification(\n",
        "    n_samples=10000,\n",
        "    n_features=26,\n",
        "    n_informative=2,\n",
        "    n_redundant=1,\n",
        "    n_classes=2,\n",
        ")"
      ],
      "metadata": {
        "id": "qy3sMze0WT0m"
      },
      "execution_count": null,
      "outputs": []
    },
    {
      "cell_type": "code",
      "source": [
        "X_train, X_test, y_train, y_test = model_selection.train_test_split(X, y)"
      ],
      "metadata": {
        "id": "ky0AM9KXXqvv"
      },
      "execution_count": null,
      "outputs": []
    },
    {
      "cell_type": "code",
      "source": [
        "clf = linear_model.RidgeClassifier()\n",
        "clf.fit(X_train, y_train)"
      ],
      "metadata": {
        "colab": {
          "base_uri": "https://localhost:8080/"
        },
        "id": "YMvRXltAXQhf",
        "outputId": "ad76ffb0-3a97-40cb-cf5f-b3ae146b09cf"
      },
      "execution_count": null,
      "outputs": [
        {
          "output_type": "execute_result",
          "data": {
            "text/plain": [
              "RidgeClassifier()"
            ]
          },
          "metadata": {},
          "execution_count": 21
        }
      ]
    },
    {
      "cell_type": "code",
      "source": [
        "model_selection.cross_val_score(clf, X_test, y_test, cv=5)"
      ],
      "metadata": {
        "colab": {
          "base_uri": "https://localhost:8080/"
        },
        "id": "TeRs8EE3Xmgm",
        "outputId": "6ca58781-e83a-401d-d87a-910d459138cb"
      },
      "execution_count": null,
      "outputs": [
        {
          "output_type": "execute_result",
          "data": {
            "text/plain": [
              "array([0.944, 0.95 , 0.97 , 0.944, 0.944])"
            ]
          },
          "metadata": {},
          "execution_count": 22
        }
      ]
    },
    {
      "cell_type": "code",
      "source": [
        "clf.predict([X_test[0]]), y_test[0]"
      ],
      "metadata": {
        "colab": {
          "base_uri": "https://localhost:8080/"
        },
        "id": "aoMLZydDZmY1",
        "outputId": "4b7ed075-d550-4f2e-ac14-c027f8ae034f"
      },
      "execution_count": null,
      "outputs": [
        {
          "output_type": "execute_result",
          "data": {
            "text/plain": [
              "(array([0]), 0)"
            ]
          },
          "metadata": {},
          "execution_count": 23
        }
      ]
    },
    {
      "cell_type": "markdown",
      "source": [
        "# Висновок\n",
        "\n",
        "В результаті виконання лабораторної роботи ми ознайомилися задачами классифікації та регресії і навчилися використовувати бібліотеку sklearn для реалізації вищезгаданих задач."
      ],
      "metadata": {
        "id": "94WWaOklanAB"
      }
    }
  ]
}